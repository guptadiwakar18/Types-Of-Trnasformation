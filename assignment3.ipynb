{
  "nbformat": 4,
  "nbformat_minor": 0,
  "metadata": {
    "colab": {
      "provenance": [],
      "authorship_tag": "ABX9TyOTAu6VsFlXlIxnYXU1rg6c",
      "include_colab_link": true
    },
    "kernelspec": {
      "name": "python3",
      "display_name": "Python 3"
    },
    "language_info": {
      "name": "python"
    }
  },
  "cells": [
    {
      "cell_type": "markdown",
      "metadata": {
        "id": "view-in-github",
        "colab_type": "text"
      },
      "source": [
        "<a href=\"https://colab.research.google.com/github/guptadiwakar18/Types-Of-Trnasformation/blob/main/assignment3.ipynb\" target=\"_parent\"><img src=\"https://colab.research.google.com/assets/colab-badge.svg\" alt=\"Open In Colab\"/></a>"
      ]
    },
    {
      "cell_type": "code",
      "execution_count": null,
      "metadata": {
        "id": "n8dBhFb9BgN2"
      },
      "outputs": [],
      "source": []
    },
    {
      "cell_type": "markdown",
      "source": [
        "1. Why are functions advantageous to have in your programs?\n",
        "ans - Functions reduce the need for duplicate code. This makes programs shorter, easier to read, and easier to update.\n",
        "\n",
        "2. When does the code in a function run: when it's specified or when it's called?\n",
        "ans- when called..\n",
        "\n",
        "3. What statement creates a function?\n",
        "ans - def statement\n",
        "\n",
        "4. What is the difference between a function and a function call?\n",
        "ans - A function is a block of code that does a particular operation and returns a result. A function call is when we execute a function. so the code used to execute a function.. eg cntrl+enter in colab.\n",
        "\n",
        "5. How many global scopes are there in a Python program? How many local scopes?ans - There's only one global Python scope per program execution. This scope remains in existence until the program terminates and all its names are forgotten. Otherwise, the next time you were to run the program, the names would remember their values from the previous run.Variables that are defined inside a function body have a local scope, and those defined outside have a global scope.\n",
        "\n",
        "6. What happens to variables in a local scope when the function call returns?\n",
        "ans-When the execution of the function terminates (returns), the local variables are destroyed.\n",
        "\n",
        "7. What is the concept of a return value? Is it possible to have a return value in an expression?\n",
        "ans-A return is a value that a function returns to the calling script or function when it completes its task. A return value can be any one of the four variable types: handle, integer, object, or string. A Python function will always have a return value. There is no notion of procedure or routine in Python. So, if you don't explicitly use a return value in a return statement, or if you totally omit the return statement, then Python will implicitly return a default value for you.\n",
        "\n",
        "8. If a function does not have a return statement, what is the return value of a call to that function?\n",
        "ans-If no return statement appears in a function definition, control automatically returns to the calling function after the last statement of the called function is executed. In this case, the return value of the called function is undefined.\n",
        "\n",
        "9. How do you make a function variable refer to the global variable?\n",
        "ans- by using global keywords.\n",
        "\n",
        "10. What is the data type of None?\n",
        "ans - The None keyword is used to define a null value, or no value at all. None is not the same as 0, False, or an empty string. None is a data type of its own (NoneType) and only None can be None.\n",
        "\n",
        "11. What does the sentence import areallyourpetsnamederic do?\n",
        "ans - please refer down\n",
        "\n",
        "12. If you had a bacon() feature in a spam module, what would you call it after importing spam?\n",
        "ans-  spam. bacon().\n",
        "\n",
        "13. What can you do to save a programme from crashing if it encounters an error?\n",
        "ans -When it encounters an error, the control is passed to the except block, skipping the code in between. As seen in the above code, we have moved our code inside a try and except statement. Try running the program and it should throw an error message instead of crashing the program.\n",
        "\n",
        "14. What is the purpose of the try clause? What is the purpose of the except clause?\n",
        "ans- The try block lets you test a block of code for errors. The except block lets you handle the error.\n"
      ],
      "metadata": {
        "id": "N7F3Ohc4BowL"
      }
    },
    {
      "cell_type": "markdown",
      "source": [
        "#question 11"
      ],
      "metadata": {
        "id": "LjxZvSoBI5CY"
      }
    },
    {
      "cell_type": "code",
      "source": [
        "import areallyourpetsnamederic"
      ],
      "metadata": {
        "colab": {
          "base_uri": "https://localhost:8080/",
          "height": 312
        },
        "id": "90Dabh53Cnut",
        "outputId": "dd456d6d-de30-42ef-809e-5c601d4fa385"
      },
      "execution_count": 1,
      "outputs": [
        {
          "output_type": "error",
          "ename": "ModuleNotFoundError",
          "evalue": "ignored",
          "traceback": [
            "\u001b[0;31m---------------------------------------------------------------------------\u001b[0m",
            "\u001b[0;31mModuleNotFoundError\u001b[0m                       Traceback (most recent call last)",
            "\u001b[0;32m<ipython-input-1-b1ea9cb2228f>\u001b[0m in \u001b[0;36m<module>\u001b[0;34m\u001b[0m\n\u001b[0;32m----> 1\u001b[0;31m \u001b[0;32mimport\u001b[0m \u001b[0mareallyourpetsnamederic\u001b[0m\u001b[0;34m\u001b[0m\u001b[0;34m\u001b[0m\u001b[0m\n\u001b[0m",
            "\u001b[0;31mModuleNotFoundError\u001b[0m: No module named 'areallyourpetsnamederic'",
            "",
            "\u001b[0;31m---------------------------------------------------------------------------\u001b[0;32m\nNOTE: If your import is failing due to a missing package, you can\nmanually install dependencies using either !pip or !apt.\n\nTo view examples of installing some common dependencies, click the\n\"Open Examples\" button below.\n\u001b[0;31m---------------------------------------------------------------------------\u001b[0m\n"
          ],
          "errorDetails": {
            "actions": [
              {
                "action": "open_url",
                "actionText": "Open Examples",
                "url": "/notebooks/snippets/importing_libraries.ipynb"
              }
            ]
          }
        }
      ]
    }
  ]
}